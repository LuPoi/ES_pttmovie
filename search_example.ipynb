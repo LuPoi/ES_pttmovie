{
 "cells": [
  {
   "cell_type": "code",
   "execution_count": 1,
   "metadata": {
    "collapsed": true
   },
   "outputs": [],
   "source": [
    "import requestsurl_search = 'http://teadaiegpu1.hopto.org:9200/yahoomovie/_search'\n",
    "results = search(url_search)\n",
    "import json"
   ]
  },
  {
   "cell_type": "code",
   "execution_count": 2,
   "metadata": {
    "collapsed": true
   },
   "outputs": [],
   "source": [
    "def search_ptt(term):\n",
    "    url_search = 'http://teadaiegpu1.hopto.org:9200/pttmovie/_search'\n",
    "    \"\"\"Simple Elasticsearch Query\"\"\"\n",
    "    query = json.dumps({\n",
    "        \"query\": {\n",
    "            \"match_phrase\": {\n",
    "                \"article_title\": term\n",
    "            }\n",
    "        },\n",
    "        \"size\":10000\n",
    "    })\n",
    "    response = requests.get(url_search, data=query)\n",
    "    results = json.loads(response.text)\n",
    "    return results"
   ]
  },
  {
   "cell_type": "code",
   "execution_count": 3,
   "metadata": {
    "collapsed": true
   },
   "outputs": [],
   "source": [
    "def search_yahoo(term):\n",
    "    url_search = 'http://teadaiegpu1.hopto.org:9200/yahoomovie/_search'\n",
    "    \"\"\"Simple Elasticsearch Query\"\"\"\n",
    "    query = json.dumps({\n",
    "        \"query\": {\n",
    "            \"match_phrase\": {\n",
    "                \"name_zh\": term\n",
    "            }\n",
    "        },\n",
    "        \"size\":1\n",
    "    })\n",
    "    response = requests.get(url_search, data=query)\n",
    "    results = json.loads(response.text)\n",
    "    return results"
   ]
  },
  {
   "cell_type": "code",
   "execution_count": 4,
   "metadata": {
    "collapsed": true
   },
   "outputs": [],
   "source": [
    "def search_date(url):\n",
    "    \"\"\"Simple Elasticsearch Query\"\"\"\n",
    "    query = json.dumps({\n",
    "        \"query\": {\n",
    "            \"range\": {\n",
    "                \"create date\": {\n",
    "                    \"gte\": \"now-2M/M\",\n",
    "                    \"lt\": \"now\"\n",
    "                }\n",
    "            },\n",
    "        },\n",
    "        \"sort\" : { \"create date\" : {\"order\" : \"desc\"}},\n",
    "        \"size\":10\n",
    "    })\n",
    "    response = requests.get(url, data=query)\n",
    "    results = json.loads(response.text)\n",
    "    return results"
   ]
  },
  {
   "cell_type": "markdown",
   "metadata": {},
   "source": [
    "# 搜尋 PTT MOVIE 評價"
   ]
  },
  {
   "cell_type": "code",
   "execution_count": 17,
   "metadata": {},
   "outputs": [
    {
     "name": "stdout",
     "output_type": "stream",
     "text": [
      "25\n"
     ]
    }
   ],
   "source": [
    "result = search_ptt('黑塔')\n",
    "result_list = result['hits']['hits']\n",
    "print len(result_list)"
   ]
  },
  {
   "cell_type": "markdown",
   "metadata": {},
   "source": [
    "# 搜尋 YAHOO MOVIE 內容"
   ]
  },
  {
   "cell_type": "code",
   "execution_count": 20,
   "metadata": {},
   "outputs": [
    {
     "name": "stdout",
     "output_type": "stream",
     "text": [
      "{u'_score': 13.168775, u'_type': u'content', u'_id': u'AV69LFHmu1NxdTOITNLL', u'_source': {u'name_zh': u'\\u9ed1\\u5854', u'tags': [u'\\u52d5\\u4f5c', u'\\u5192\\u96aa'], u'url': u'https://tw.movies.yahoo.com/movieinfo_main.html/id=6830', u'company': None, u'actor': [u'\\u99ac\\u4fee\\u9ea5\\u5eb7\\u7d0d(Matthew McConaughey)', u'\\u4f0a\\u5353\\u745e\\u65af\\u827e\\u5df4(Idris Elba)'], u'director': u'\\u5c3c\\u79d1\\u840a\\u963f\\u723e\\u8cfd(Nikolaj Arcel)\\n                                                    \\u3001\\n                                      \\u5c3c\\u79d1\\u840a\\u963f\\u723e\\u8cfd', u'create date': u'2017-08-31', u'IMDb': 6.0, u'name_en': u'The Dark Tower', u'movie time': None}, u'_index': u'yahoomovie'}\n",
      "\n",
      "6.0\n",
      "The Dark Tower\n"
     ]
    }
   ],
   "source": [
    "result = search_yahoo('黑塔')\n",
    "result = result['hits']['hits'][0]\n",
    "print result\n",
    "print \"\"\n",
    "print result['_source']['IMDb']\n",
    "print result['_source']['name_en']"
   ]
  },
  {
   "cell_type": "markdown",
   "metadata": {},
   "source": [
    "# 搜尋 離現在最近兩個月的電影(照時間最新排序，數量固定10)"
   ]
  },
  {
   "cell_type": "code",
   "execution_count": 22,
   "metadata": {},
   "outputs": [
    {
     "name": "stdout",
     "output_type": "stream",
     "text": [
      "10\n",
      "春宵苦短，少女前進吧！\n",
      "2017-09-29\n",
      "煉獄迷宮\n",
      "2017-09-29\n",
      "心之物語\n",
      "2017-09-29\n",
      "密弒逃脫\n",
      "2017-09-29\n",
      "我在快打求旋風\n",
      "2017-09-29\n",
      "追龍\n",
      "2017-09-29\n",
      "雙峰：與火同行\n",
      "2017-09-29\n",
      "穆荷蘭大道\n",
      "2017-09-29\n",
      "亂\n",
      "2017-09-29\n",
      "販賣愛情\n",
      "2017-09-29\n"
     ]
    }
   ],
   "source": [
    "url_search = 'http://teadaiegpu1.hopto.org:9200/yahoomovie/_search'\n",
    "results = search_date(url_search)\n",
    "print len(results['hits']['hits'])\n",
    "for a in results['hits']['hits']:\n",
    "    print a['_source']['name_zh']\n",
    "    print a['_source']['create date']"
   ]
  },
  {
   "cell_type": "code",
   "execution_count": null,
   "metadata": {
    "collapsed": true
   },
   "outputs": [],
   "source": []
  }
 ],
 "metadata": {
  "kernelspec": {
   "display_name": "Python 2",
   "language": "python",
   "name": "python2"
  },
  "language_info": {
   "codemirror_mode": {
    "name": "ipython",
    "version": 2
   },
   "file_extension": ".py",
   "mimetype": "text/x-python",
   "name": "python",
   "nbconvert_exporter": "python",
   "pygments_lexer": "ipython2",
   "version": "2.7.13"
  }
 },
 "nbformat": 4,
 "nbformat_minor": 2
}
