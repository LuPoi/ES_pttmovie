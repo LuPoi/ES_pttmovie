{
 "cells": [
  {
   "cell_type": "code",
   "execution_count": 1,
   "metadata": {
    "collapsed": true
   },
   "outputs": [],
   "source": [
    "import json\n",
    "import time\n",
    "from elasticsearch import Elasticsearch"
   ]
  },
  {
   "cell_type": "code",
   "execution_count": 2,
   "metadata": {
    "collapsed": true
   },
   "outputs": [],
   "source": [
    "import pickle"
   ]
  },
  {
   "cell_type": "code",
   "execution_count": null,
   "metadata": {
    "collapsed": true
   },
   "outputs": [],
   "source": [
    "es = Elasticsearch([{'host': 'teadaiegpu1.hopto.org', 'port': 9200}])\n",
    "def insert(paths):\n",
    "    for path in paths:\n",
    "        with open(path, 'rb') as handle:\n",
    "            contents = pickle.load(handle)\n",
    "            noerror = []\n",
    "            for c in contents:\n",
    "                if 'error' not in c.keys():\n",
    "                    if c['IMDb'] != None:\n",
    "                        c['IMDb'] = float(c['IMDb'])\n",
    "                    noerror.append(c)\n",
    "            for t in noerror:\n",
    "                es.index(index='yahoomovie', doc_type='content', body=t)"
   ]
  },
  {
   "cell_type": "code",
   "execution_count": 3,
   "metadata": {
    "collapsed": true
   },
   "outputs": [],
   "source": [
    "with open('/home/yang/notebook/ptt-web-crawler/PttWebCrawler/yahoo_movie/contents_1_2501.pickle', 'rb') as handle:\n",
    "    contents_1_2501 = pickle.load(handle)\n",
    "with open('/home/yang/notebook/ptt-web-crawler/PttWebCrawler/yahoo_movie/contents_2501_5001.pickle', 'rb') as handle:\n",
    "    contents_2501_5001 = pickle.load(handle)\n",
    "with open('/home/yang/notebook/ptt-web-crawler/PttWebCrawler/yahoo_movie/contents_5001_7242.pickle', 'rb') as handle:\n",
    "    contents_5001_7242 = pickle.load(handle)"
   ]
  },
  {
   "cell_type": "code",
   "execution_count": 32,
   "metadata": {
    "collapsed": true
   },
   "outputs": [],
   "source": [
    "all_contents = contents_1_2501+contents_2501_5001+contents_5001_7242"
   ]
  },
  {
   "cell_type": "code",
   "execution_count": 33,
   "metadata": {},
   "outputs": [
    {
     "data": {
      "text/plain": [
       "7241"
      ]
     },
     "execution_count": 33,
     "metadata": {},
     "output_type": "execute_result"
    }
   ],
   "source": [
    "len(all_contents)"
   ]
  },
  {
   "cell_type": "code",
   "execution_count": 34,
   "metadata": {
    "collapsed": true
   },
   "outputs": [],
   "source": [
    "noerror = []\n",
    "for c in all_contents:\n",
    "    if 'error' not in c.keys():\n",
    "        if c['IMDb'] != None:\n",
    "            c['IMDb'] = float(c['IMDb'])\n",
    "        noerror.append(c)"
   ]
  },
  {
   "cell_type": "code",
   "execution_count": 35,
   "metadata": {},
   "outputs": [
    {
     "data": {
      "text/plain": [
       "6165"
      ]
     },
     "execution_count": 35,
     "metadata": {},
     "output_type": "execute_result"
    }
   ],
   "source": [
    "len(noerror)"
   ]
  },
  {
   "cell_type": "code",
   "execution_count": 41,
   "metadata": {
    "collapsed": true
   },
   "outputs": [],
   "source": [
    "es = Elasticsearch([{'host': 'teadaiegpu1.hopto.org', 'port': 9200}])\n",
    "for t in noerror:\n",
    "    es.index(index='yahoomovie', doc_type='content', body=t)"
   ]
  },
  {
   "cell_type": "code",
   "execution_count": null,
   "metadata": {
    "collapsed": true
   },
   "outputs": [],
   "source": []
  }
 ],
 "metadata": {
  "kernelspec": {
   "display_name": "Python 2",
   "language": "python",
   "name": "python2"
  },
  "language_info": {
   "codemirror_mode": {
    "name": "ipython",
    "version": 2
   },
   "file_extension": ".py",
   "mimetype": "text/x-python",
   "name": "python",
   "nbconvert_exporter": "python",
   "pygments_lexer": "ipython2",
   "version": "2.7.13"
  }
 },
 "nbformat": 4,
 "nbformat_minor": 2
}
