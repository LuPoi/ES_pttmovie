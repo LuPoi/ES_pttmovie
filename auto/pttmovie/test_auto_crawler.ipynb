{
 "cells": [
  {
   "cell_type": "code",
   "execution_count": 56,
   "metadata": {
    "collapsed": true
   },
   "outputs": [],
   "source": [
    "import os\n",
    "import requests\n",
    "from bs4 import BeautifulSoup\n",
    "from subprocess import Popen\n",
    "from datetime import datetime"
   ]
  },
  {
   "cell_type": "code",
   "execution_count": 57,
   "metadata": {
    "collapsed": true
   },
   "outputs": [],
   "source": [
    "with open('now_index.txt', 'r') as f:\n",
    "    now_index = f.readlines()\n",
    "now_index = int(now_index[0].strip())"
   ]
  },
  {
   "cell_type": "code",
   "execution_count": 58,
   "metadata": {
    "collapsed": true
   },
   "outputs": [],
   "source": [
    "def check_is(url):\n",
    "    resp = requests.get(url)\n",
    "    soup = BeautifulSoup(resp.text, 'html.parser')\n",
    "    divs = soup.find(\"div\", \"btn-group-paging\")\n",
    "    live = divs.find_all(\"a\", \"disabled\")\n",
    "    if live == []:\n",
    "        return True\n",
    "    else:\n",
    "        return False"
   ]
  },
  {
   "cell_type": "code",
   "execution_count": 59,
   "metadata": {
    "collapsed": true
   },
   "outputs": [],
   "source": [
    "now_index_list = []\n",
    "# 判斷第一次\n",
    "triggle = check_is('https://www.ptt.cc/bbs/movie/index'+str(now_index+1)+'.html')\n",
    "datetimestr =  datetime.now().strftime(\"%Y-%m-%d %H:%M:%S\")\n",
    "if triggle:\n",
    "    while triggle:\n",
    "        url = 'https://www.ptt.cc/bbs/movie/index'+str(now_index)+'.html'\n",
    "        triggle = check_is(url)\n",
    "        if triggle:\n",
    "            now_index_list.append(now_index)\n",
    "            now_index+=1\n",
    "    icmd = ' -i '+str(now_index_list[0]+1)+' '+str(now_index_list[-1])\n",
    "    cmd = 'python crawler.py -b movie'+icmd\n",
    "    os.system( cmd )\n",
    "    with open('log.txt', 'a') as f:\n",
    "        f.write(datetimestr+'   '+cmd+'\\n')\n",
    "    with open('now_index.txt', 'w') as f:\n",
    "        f.write(str(now_index_list[-1]))\n",
    "else:\n",
    "    with open('log.txt', 'a') as f:\n",
    "        f.write(datetimestr+'   '+'no run script'+'\\n')    "
   ]
  }
 ],
 "metadata": {
  "kernelspec": {
   "display_name": "Python 2",
   "language": "python",
   "name": "python2"
  },
  "language_info": {
   "codemirror_mode": {
    "name": "ipython",
    "version": 2
   },
   "file_extension": ".py",
   "mimetype": "text/x-python",
   "name": "python",
   "nbconvert_exporter": "python",
   "pygments_lexer": "ipython2",
   "version": "2.7.13"
  }
 },
 "nbformat": 4,
 "nbformat_minor": 2
}
